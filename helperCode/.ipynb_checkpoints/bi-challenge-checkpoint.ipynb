{
 "cells": [
  {
   "cell_type": "code",
   "execution_count": 58,
   "metadata": {
    "collapsed": true
   },
   "outputs": [],
   "source": [
    "days_dict = {\n",
    "    'MWTH' : [1,0,1,1,0,0,0], \n",
    "    'WF': [0,0,1,0,1,0,0], \n",
    "    'MF': [1,0,0,0,1,0,0],\n",
    "    'TH': [0,0,0,1,0,0,0], \n",
    "    'F': [0,0,0,0,1,0,0], \n",
    "    'S': [0,0,0,0,0,1,0], \n",
    "    'MTWF': [1,1,1,0,1,0,0], \n",
    "    'M': [1,0,0,0,0,0,0], \n",
    "    'M-TH': [1,1,1,1,0,0,0],\n",
    "    'SU': [0,0,0,0,0,0,1], \n",
    "    'MTH': [1,0,0,1,0,0,0],\n",
    "    'MTTF': [1,1,0,1,0,0,0],\n",
    "    'MW': [1,0,1,0,0,0,0], \n",
    "    'TTH': [1,0,1,0,0,0,0],\n",
    "    'TTHF': [0,1,0,1,1,0,0], \n",
    "    'MWF': [1,0,1,0,1,0,0], \n",
    "    'W': [0,0,1,0,0,0,0], \n",
    "    'TF': [0,1,0,0,1,0,0], \n",
    "    'M-F': [1,1,1,1,1,0,0], \n",
    "    'T': [0,1,0,0,0,0,0],\n",
    "}"
   ]
  },
  {
   "cell_type": "code",
   "execution_count": 65,
   "metadata": {
    "collapsed": false
   },
   "outputs": [
    {
     "name": "stdout",
     "output_type": "stream",
     "text": [
      "2013-08-01\n"
     ]
    }
   ],
   "source": [
    "import csv\n",
    "from datetime import datetime\n",
    "import pandas as pd\n",
    "\n",
    "y = 2013\n",
    "index=['COURSE_ID','CLASS_START_DATE','CLASS_END_DATE','DAYS','MAX_ENROLLMENT',\n",
    "                                'TERM','INSTRUCTOR_NAME','MEETING_TIME']\n",
    "\n",
    "df = pd.read_csv('course-info.csv')\n",
    "year = []\n",
    "date = []\n",
    "for item in df['CLASS_START_DATE']:\n",
    "    date.append(datetime.strptime(item, '%Y-%m-%d'))\n",
    "    year.append(datetime.strptime(item, '%Y-%m-%d').year)\n",
    "    \n",
    "df1 = pd.Series(year,index=df.index)\n",
    "\n",
    "data = []\n",
    "for index in range(len(df['CLASS_START_DATE'])):\n",
    "    if df1[index] == y:\n",
    "        data.append(df.iloc[[index]])\n",
    "\n",
    "clean_data = []\n",
    "for item in data:\n",
    "    if not(item['DAYS'].item() == '-' or item['DAYS'].item() == 'TBA'):\n",
    "        clean_data.append(item)\n",
    "\n",
    "days =[]\n",
    "for i in clean_data:\n",
    "    days.append(days_dict[i['DAYS'].item()])\n",
    "\n",
    "start_date = sorted(date)[0].strftime('%Y-%m-%d')\n",
    "print start_date"
   ]
  },
  {
   "cell_type": "code",
   "execution_count": 116,
   "metadata": {
    "collapsed": false
   },
   "outputs": [
    {
     "name": "stdout",
     "output_type": "stream",
     "text": [
      "2013-08-26\n",
      "-152\n"
     ]
    }
   ],
   "source": [
    "print clean_data[0]['CLASS_START_DATE'].item()\n",
    "from datetime import timedelta,date,datetime, time\n",
    "t = datetime.strptime(df.iloc[0]['CLASS_START_DATE'], '%Y-%m-%d')\n",
    "x  = datetime(2013,8,5)\n",
    "start = datetime.strptime(start_date, '%Y-%m-%d')\n",
    "print (start - end).days\n",
    "# print str(start\n",
    "# end = datetime(y, 12, 31)\n",
    "# next_date = start\n",
    "# while (start - end).days <= 0:\n",
    "#     next_date += timedelta(days=1)\n",
    "#     print next_date"
   ]
  },
  {
   "cell_type": "code",
   "execution_count": 115,
   "metadata": {
    "collapsed": false
   },
   "outputs": [
    {
     "name": "stdout",
     "output_type": "stream",
     "text": [
      "2013-10-03 00:00:00 1081\n"
     ]
    }
   ],
   "source": [
    "next_date  = datetime(2013,10,3)\n",
    "count  = 0\n",
    "for index in range(len(clean_data)):\n",
    "    temp_start = datetime.strptime(clean_data[index]['CLASS_START_DATE'].item(), '%Y-%m-%d')\n",
    "    temp_end = datetime.strptime(clean_data[index]['CLASS_END_DATE'].item(), '%Y-%m-%d')\n",
    "    wday = days[index][next_date.weekday()]\n",
    "#     print temp_start, temp_end, wday\n",
    "    if wday == 1:\n",
    "        if (next_date - temp_start).days >= 0 and (temp_end - next_date ).days >= 0:\n",
    "            count += 1\n",
    "print next_date,count"
   ]
  },
  {
   "cell_type": "code",
   "execution_count": 121,
   "metadata": {
    "collapsed": false
   },
   "outputs": [
    {
     "name": "stdout",
     "output_type": "stream",
     "text": [
      "set(['CMCI', 'ARPL', 'JOUR', 'ARSC', 'MUSC', 'CEPS', 'CRSS', 'CONC', 'BUSN', 'ENGR', 'EDUC', 'LAWS'])\n"
     ]
    }
   ],
   "source": [
    "ef = pd.read_csv('rooms-info.csv')\n",
    "code = []\n",
    "for i in range(len(ef)):\n",
    "    code.append(ef.iloc[i]['ACADEMIC_GROUP_CODE'])\n",
    "\n",
    "for item in set(code):\n",
    "    group = []\n",
    "    for i in range(len(ef)):\n",
    "        if ef.iloc[i]['ACADEMIC_GROUP_CODE'] == item:\n",
    "            group.append(ef.iloc[i]['ACADEMIC_ORGANIZATION_CODE'])\n",
    "    print item, set(group)"
   ]
  },
  {
   "cell_type": "code",
   "execution_count": null,
   "metadata": {
    "collapsed": true
   },
   "outputs": [],
   "source": [
    "code_dict = {\n",
    "    'CMCI':1,\n",
    "    'ARPL':2,\n",
    "    'JOUR':3,\n",
    "    'ARSC':4,\n",
    "    'MUSC':5,\n",
    "    'CEPS':6,\n",
    "    'CRSS':7,\n",
    "    'CONC':8,\n",
    "    'BUSN':9,\n",
    "    'ENGR':10,\n",
    "    'EDUC':11,\n",
    "    'LAWS': 12\n",
    "}"
   ]
  }
 ],
 "metadata": {
  "kernelspec": {
   "display_name": "Python 2",
   "language": "python",
   "name": "python2"
  },
  "language_info": {
   "codemirror_mode": {
    "name": "ipython",
    "version": 2
   },
   "file_extension": ".py",
   "mimetype": "text/x-python",
   "name": "python",
   "nbconvert_exporter": "python",
   "pygments_lexer": "ipython2",
   "version": "2.7.10"
  }
 },
 "nbformat": 4,
 "nbformat_minor": 0
}
